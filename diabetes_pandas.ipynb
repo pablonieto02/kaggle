{
 "cells": [
  {
   "cell_type": "code",
   "execution_count": 2,
   "id": "09ce7537-36f9-48b9-bad5-ba4f4e3062a6",
   "metadata": {},
   "outputs": [],
   "source": [
    "import pandas as pd"
   ]
  },
  {
   "cell_type": "code",
   "execution_count": 3,
   "id": "c8e82d6b-5315-4101-9c0d-add00e9cb7f6",
   "metadata": {},
   "outputs": [],
   "source": [
    "df = pd.read_csv('datasets/diabetes_dataset.csv')"
   ]
  },
  {
   "cell_type": "code",
   "execution_count": null,
   "id": "980702c0-bd0a-4be2-a259-d9cd7f2fbf1c",
   "metadata": {},
   "outputs": [],
   "source": [
    "# About this file\n",
    "# File: diabetes_dataset.csv\n",
    "# Size: (Number of rows × Number of columns)\n",
    "# Format: CSV (Comma-Separated Values)\n",
    "# The dataset contains 768 rows and 9 columns, representing various health diagnostic metrics for predicting diabetes. Each row corresponds to a unique patient record, with features capturing key medical attributes.\n",
    "\n",
    "# Columns:\n",
    "# Pregnancies (Integer): Number of times the patient has been pregnant.\n",
    "# Glucose (Integer): Plasma glucose concentration (mg/dL) after a 2-hour oral glucose tolerance test.\n",
    "# BloodPressure (Integer): Diastolic blood pressure (mm Hg).\n",
    "# SkinThickness (Integer): Triceps skinfold thickness (mm).\n",
    "# Insulin (Integer): 2-hour serum insulin (mu U/ml).\n",
    "# BMI (Float): Body mass index, defined as weight in kg/(height in m)^2.\n",
    "# DiabetesPedigreeFunction (Float): A score indicating genetic predisposition to diabetes based on family history.\n",
    "# Age (Integer): Age of the patient (in years).\n",
    "# Outcome (Binary): Target variable where 1 indicates diabetes, and 0 indicates no diabetes."
   ]
  },
  {
   "cell_type": "code",
   "execution_count": 1,
   "id": "54c3870c-5be8-4b5f-843c-2ffcf5c369d9",
   "metadata": {},
   "outputs": [],
   "source": [
    "# Sobre este arquivo\n",
    "# Arquivo: diabetes_dataset.csv\n",
    "# Tamanho: (Número de linhas × Número de colunas)\n",
    "# Formato: CSV (valores separados por vírgula)\n",
    "# O conjunto de dados contém 768 linhas e 9 colunas, representando várias métricas de diagnóstico de saúde para prever diabetes. Cada linha corresponde a um registro de paciente exclusivo, com recursos que capturam os principais atributos médicos.\n",
    "\n",
    "# Colunas:\n",
    "# Gravidez (Inteiro): Número de vezes que a paciente esteve grávida.\n",
    "# Glicose (Inteiro): Concentração de glicose plasmática (mg/dL) após um teste oral de tolerância à glicose de 2 horas.\n",
    "# Pressão Arterial (Inteiro): Pressão arterial diastólica (mm Hg).\n",
    "# SkinThickness (Inteiro): Espessura da dobra cutânea tricipital (mm).\n",
    "# Insulina (Inteira): insulina sérica de 2 horas (mu U/ml).\n",
    "# IMC (Float): Índice de massa corporal, definido como peso em kg/(altura em m)^2.\n",
    "# DiabetesPedigreeFunction (Float): Uma pontuação que indica predisposição genética para diabetes com base no histórico familiar.\n",
    "# Idade (Inteiro): Idade do paciente (em anos).\n",
    "# Resultado (binário): Variável alvo onde 1 indica diabetes e 0 indica sem diabetes."
   ]
  },
  {
   "cell_type": "code",
   "execution_count": 15,
   "id": "43004d87-63b0-4098-af0b-c1a86e2132fd",
   "metadata": {},
   "outputs": [
    {
     "name": "stdout",
     "output_type": "stream",
     "text": [
      "<class 'pandas.core.frame.DataFrame'>\n",
      "RangeIndex: 768 entries, 0 to 767\n",
      "Data columns (total 9 columns):\n",
      " #   Column           Non-Null Count  Dtype  \n",
      "---  ------           --------------  -----  \n",
      " 0   qtd_gravidez     768 non-null    int64  \n",
      " 1   glicose          768 non-null    int64  \n",
      " 2   pressao_aterial  768 non-null    int64  \n",
      " 3   skin_thickness   768 non-null    int64  \n",
      " 4   Insulin          768 non-null    int64  \n",
      " 5   imc              768 non-null    float64\n",
      " 6   indice_genetico  768 non-null    float64\n",
      " 7   idade            768 non-null    int64  \n",
      " 8   diabetico        768 non-null    int64  \n",
      "dtypes: float64(2), int64(7)\n",
      "memory usage: 54.1 KB\n"
     ]
    }
   ],
   "source": [
    "df.info()"
   ]
  },
  {
   "cell_type": "code",
   "execution_count": 8,
   "id": "06b2e8c6-2ae1-47d2-89c7-b22c5a7fa468",
   "metadata": {},
   "outputs": [],
   "source": [
    "# renomeando as colunas\n",
    "df.rename(columns={'Pregnancies': 'qtd_gravidez',\n",
    "                   'Glucose': 'glicose',\n",
    "                   'BloodPressure': 'pressao_aterial',\n",
    "                   'SkinThickness': 'skin_thickness',\n",
    "                   'Insulina': 'insulina',\n",
    "                   'BMI': 'imc',\n",
    "                   'DiabetesPedigreeFunction': 'indice_genetico',\n",
    "                   'Age': 'idade',\n",
    "                   'Outcome': 'diabetico'\n",
    "                  }, inplace=True)"
   ]
  },
  {
   "cell_type": "code",
   "execution_count": 14,
   "id": "42646a7c-7d93-4227-a982-d3313eabf757",
   "metadata": {},
   "outputs": [
    {
     "data": {
      "text/html": [
       "<div>\n",
       "<style scoped>\n",
       "    .dataframe tbody tr th:only-of-type {\n",
       "        vertical-align: middle;\n",
       "    }\n",
       "\n",
       "    .dataframe tbody tr th {\n",
       "        vertical-align: top;\n",
       "    }\n",
       "\n",
       "    .dataframe thead th {\n",
       "        text-align: right;\n",
       "    }\n",
       "</style>\n",
       "<table border=\"1\" class=\"dataframe\">\n",
       "  <thead>\n",
       "    <tr style=\"text-align: right;\">\n",
       "      <th></th>\n",
       "      <th>qtd_gravidez</th>\n",
       "      <th>glicose</th>\n",
       "      <th>pressao_aterial</th>\n",
       "      <th>skin_thickness</th>\n",
       "      <th>Insulin</th>\n",
       "      <th>imc</th>\n",
       "      <th>indice_genetico</th>\n",
       "      <th>idade</th>\n",
       "      <th>diabetico</th>\n",
       "    </tr>\n",
       "  </thead>\n",
       "  <tbody>\n",
       "    <tr>\n",
       "      <th>0</th>\n",
       "      <td>6</td>\n",
       "      <td>148</td>\n",
       "      <td>72</td>\n",
       "      <td>35</td>\n",
       "      <td>0</td>\n",
       "      <td>33.6</td>\n",
       "      <td>0.627</td>\n",
       "      <td>50</td>\n",
       "      <td>1</td>\n",
       "    </tr>\n",
       "    <tr>\n",
       "      <th>1</th>\n",
       "      <td>1</td>\n",
       "      <td>85</td>\n",
       "      <td>66</td>\n",
       "      <td>29</td>\n",
       "      <td>0</td>\n",
       "      <td>26.6</td>\n",
       "      <td>0.351</td>\n",
       "      <td>31</td>\n",
       "      <td>0</td>\n",
       "    </tr>\n",
       "    <tr>\n",
       "      <th>2</th>\n",
       "      <td>8</td>\n",
       "      <td>183</td>\n",
       "      <td>64</td>\n",
       "      <td>0</td>\n",
       "      <td>0</td>\n",
       "      <td>23.3</td>\n",
       "      <td>0.672</td>\n",
       "      <td>32</td>\n",
       "      <td>1</td>\n",
       "    </tr>\n",
       "    <tr>\n",
       "      <th>3</th>\n",
       "      <td>1</td>\n",
       "      <td>89</td>\n",
       "      <td>66</td>\n",
       "      <td>23</td>\n",
       "      <td>94</td>\n",
       "      <td>28.1</td>\n",
       "      <td>0.167</td>\n",
       "      <td>21</td>\n",
       "      <td>0</td>\n",
       "    </tr>\n",
       "    <tr>\n",
       "      <th>4</th>\n",
       "      <td>0</td>\n",
       "      <td>137</td>\n",
       "      <td>40</td>\n",
       "      <td>35</td>\n",
       "      <td>168</td>\n",
       "      <td>43.1</td>\n",
       "      <td>2.288</td>\n",
       "      <td>33</td>\n",
       "      <td>1</td>\n",
       "    </tr>\n",
       "  </tbody>\n",
       "</table>\n",
       "</div>"
      ],
      "text/plain": [
       "   qtd_gravidez  glicose  pressao_aterial  skin_thickness  Insulin   imc  \\\n",
       "0             6      148               72              35        0  33.6   \n",
       "1             1       85               66              29        0  26.6   \n",
       "2             8      183               64               0        0  23.3   \n",
       "3             1       89               66              23       94  28.1   \n",
       "4             0      137               40              35      168  43.1   \n",
       "\n",
       "   indice_genetico  idade  diabetico  \n",
       "0            0.627     50          1  \n",
       "1            0.351     31          0  \n",
       "2            0.672     32          1  \n",
       "3            0.167     21          0  \n",
       "4            2.288     33          1  "
      ]
     },
     "execution_count": 14,
     "metadata": {},
     "output_type": "execute_result"
    }
   ],
   "source": [
    "df.head()"
   ]
  }
 ],
 "metadata": {
  "kernelspec": {
   "display_name": "Python 3 (ipykernel)",
   "language": "python",
   "name": "python3"
  },
  "language_info": {
   "codemirror_mode": {
    "name": "ipython",
    "version": 3
   },
   "file_extension": ".py",
   "mimetype": "text/x-python",
   "name": "python",
   "nbconvert_exporter": "python",
   "pygments_lexer": "ipython3",
   "version": "3.8.20"
  }
 },
 "nbformat": 4,
 "nbformat_minor": 5
}
