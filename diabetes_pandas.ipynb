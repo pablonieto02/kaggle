{
 "cells": [
  {
   "cell_type": "code",
   "execution_count": 2,
   "id": "09ce7537-36f9-48b9-bad5-ba4f4e3062a6",
   "metadata": {},
   "outputs": [],
   "source": [
    "import pandas as pd"
   ]
  },
  {
   "cell_type": "code",
   "execution_count": null,
   "id": "c8e82d6b-5315-4101-9c0d-add00e9cb7f6",
   "metadata": {},
   "outputs": [],
   "source": [
    "df = pd.read_csv('dataset/')"
   ]
  },
  {
   "cell_type": "code",
   "execution_count": null,
   "id": "980702c0-bd0a-4be2-a259-d9cd7f2fbf1c",
   "metadata": {},
   "outputs": [],
   "source": [
    "# About this file\n",
    "# File: diabetes_dataset.csv\n",
    "# Size: (Number of rows × Number of columns)\n",
    "# Format: CSV (Comma-Separated Values)\n",
    "# The dataset contains 768 rows and 9 columns, representing various health diagnostic metrics for predicting diabetes. Each row corresponds to a unique patient record, with features capturing key medical attributes.\n",
    "\n",
    "# Columns:\n",
    "# Pregnancies (Integer): Number of times the patient has been pregnant.\n",
    "# Glucose (Integer): Plasma glucose concentration (mg/dL) after a 2-hour oral glucose tolerance test.\n",
    "# BloodPressure (Integer): Diastolic blood pressure (mm Hg).\n",
    "# SkinThickness (Integer): Triceps skinfold thickness (mm).\n",
    "# Insulin (Integer): 2-hour serum insulin (mu U/ml).\n",
    "# BMI (Float): Body mass index, defined as weight in kg/(height in m)^2.\n",
    "# DiabetesPedigreeFunction (Float): A score indicating genetic predisposition to diabetes based on family history.\n",
    "# Age (Integer): Age of the patient (in years).\n",
    "# Outcome (Binary): Target variable where 1 indicates diabetes, and 0 indicates no diabetes."
   ]
  },
  {
   "cell_type": "code",
   "execution_count": 1,
   "id": "54c3870c-5be8-4b5f-843c-2ffcf5c369d9",
   "metadata": {},
   "outputs": [],
   "source": [
    "# Sobre este arquivo\n",
    "# Arquivo: diabetes_dataset.csv\n",
    "# Tamanho: (Número de linhas × Número de colunas)\n",
    "# Formato: CSV (valores separados por vírgula)\n",
    "# O conjunto de dados contém 768 linhas e 9 colunas, representando várias métricas de diagnóstico de saúde para prever diabetes. Cada linha corresponde a um registro de paciente exclusivo, com recursos que capturam os principais atributos médicos.\n",
    "\n",
    "# Colunas:\n",
    "# Gravidez (Inteiro): Número de vezes que a paciente esteve grávida.\n",
    "# Glicose (Inteiro): Concentração de glicose plasmática (mg/dL) após um teste oral de tolerância à glicose de 2 horas.\n",
    "# Pressão Arterial (Inteiro): Pressão arterial diastólica (mm Hg).\n",
    "# SkinThickness (Inteiro): Espessura da dobra cutânea tricipital (mm).\n",
    "# Insulina (Inteira): insulina sérica de 2 horas (mu U/ml).\n",
    "# IMC (Float): Índice de massa corporal, definido como peso em kg/(altura em m)^2.\n",
    "# DiabetesPedigreeFunction (Float): Uma pontuação que indica predisposição genética para diabetes com base no histórico familiar.\n",
    "# Idade (Inteiro): Idade do paciente (em anos).\n",
    "# Resultado (binário): Variável alvo onde 1 indica diabetes e 0 indica sem diabetes."
   ]
  }
 ],
 "metadata": {
  "kernelspec": {
   "display_name": "Python 3 (ipykernel)",
   "language": "python",
   "name": "python3"
  },
  "language_info": {
   "codemirror_mode": {
    "name": "ipython",
    "version": 3
   },
   "file_extension": ".py",
   "mimetype": "text/x-python",
   "name": "python",
   "nbconvert_exporter": "python",
   "pygments_lexer": "ipython3",
   "version": "3.8.20"
  }
 },
 "nbformat": 4,
 "nbformat_minor": 5
}
