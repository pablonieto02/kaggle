{
 "cells": [
  {
   "cell_type": "code",
   "execution_count": 2,
   "id": "8588df3a-20d0-410d-b85c-fc14efdf8e2c",
   "metadata": {},
   "outputs": [
    {
     "name": "stderr",
     "output_type": "stream",
     "text": [
      "24/11/03 15:26:00 WARN Utils: Your hostname, xps resolves to a loopback address: 127.0.1.1; using 10.255.255.254 instead (on interface lo)\n",
      "24/11/03 15:26:00 WARN Utils: Set SPARK_LOCAL_IP if you need to bind to another address\n",
      "Setting default log level to \"WARN\".\n",
      "To adjust logging level use sc.setLogLevel(newLevel). For SparkR, use setLogLevel(newLevel).\n",
      "24/11/03 15:26:01 WARN NativeCodeLoader: Unable to load native-hadoop library for your platform... using builtin-java classes where applicable\n"
     ]
    }
   ],
   "source": [
    "from pyspark.sql import SparkSession\n",
    "\n",
    "spark = SparkSession.builder \\\n",
    "    .appName(\"sparkApp\") \\\n",
    "    .getOrCreate()"
   ]
  },
  {
   "cell_type": "code",
   "execution_count": 4,
   "id": "b9f04e48-b5e0-475e-a953-1718c82be545",
   "metadata": {},
   "outputs": [],
   "source": [
    "df_crime = spark.read.options(delimiter=',', header=True).csv('datasets/chicage_crime_data.csv')"
   ]
  },
  {
   "cell_type": "code",
   "execution_count": 6,
   "id": "10ad2d5e-a02f-419b-a9b2-a0589e015063",
   "metadata": {},
   "outputs": [
    {
     "name": "stdout",
     "output_type": "stream",
     "text": [
      "+--------+-----------+--------------------+--------------------+----+--------------------+--------------------+--------------------+------+--------+----+--------+----+--------------+--------+------------+------------+----+--------------------+------------+-------------+--------------------+\n",
      "|      ID|Case Number|                Date|               Block|IUCR|        Primary Type|         Description|Location Description|Arrest|Domestic|Beat|District|Ward|Community Area|FBI Code|X Coordinate|Y Coordinate|Year|          Updated On|    Latitude|    Longitude|            Location|\n",
      "+--------+-----------+--------------------+--------------------+----+--------------------+--------------------+--------------------+------+--------+----+--------+----+--------------+--------+------------+------------+----+--------------------+------------+-------------+--------------------+\n",
      "| 5741943|   HN549294|08/25/2007 09:22:...|  074XX N ROGERS AVE|0560|             ASSAULT|              SIMPLE|               OTHER| false|   false|2422|     024|  49|             1|     08A|        null|        null|2007|08/17/2015 03:03:...|        null|         null|                null|\n",
      "|   25953|   JE240540|05/24/2021 03:06:...| 020XX N LARAMIE AVE|0110|            HOMICIDE| FIRST DEGREE MURDER|              STREET|  true|   false|2515|     025|  36|            19|     01A|     1141387|     1913179|2021|11/18/2023 03:39:...|41.917838056|-87.755968972|(41.917838056, -8...|\n",
      "|   26038|   JE279849|06/26/2021 09:24:...|062XX N MC CORMIC...|0110|            HOMICIDE| FIRST DEGREE MURDER|         PARKING LOT|  true|   false|1711|     017|  50|            13|     01A|     1152781|     1941458|2021|11/18/2023 03:39:...|41.995219444|-87.713354912|(41.995219444, -8...|\n",
      "|13279676|   JG507211|11/09/2023 07:30:...|    019XX W BYRON ST|0620|            BURGLARY|      UNLAWFUL ENTRY|           APARTMENT| false|   false|1922|     019|  47|             5|      05|     1162518|     1925906|2023|11/18/2023 03:39:...|41.952345086|-87.677975059|(41.952345086, -8...|\n",
      "|13274752|   JG501049|11/12/2023 07:59:...|086XX S COTTAGE G...|0454|             BATTERY|AGGRAVATED P.O. -...|  SMALL RETAIL STORE|  true|   false|0632|     006|   6|            44|     08B|     1183071|     1847869|2023|12/09/2023 03:41:...|41.737750767|-87.604855911|(41.737750767, -8...|\n",
      "| 1930689|   HH109118|01/05/2002 09:24:...|      007XX E 103 ST|0820|               THEFT|      $500 AND UNDER|         GAS STATION|  true|   false|0512|     005|null|          null|      06|        null|        null|2002|02/04/2016 06:33:...|        null|         null|                null|\n",
      "|13203321|   JG415333|09/06/2023 05:00:...|    002XX N Wells st|1320|     CRIMINAL DAMAGE|          TO VEHICLE|PARKING LOT / GAR...| false|   false|0122|     001|  42|            32|      14|     1174694|     1901831|2023|11/04/2023 03:40:...|41.886018055|-87.633937881|(41.886018055, -8...|\n",
      "|13210088|   JG423627|08/31/2023 12:00:...|023XX W JACKSON BLVD|1153|  DECEPTIVE PRACTICE|FINANCIAL IDENTIT...|              STREET| false|   false|1225|     012|  27|            28|      11|     1160870|     1898642|2023|09/16/2023 03:41:...|41.877565108| -87.68479102|(41.877565108, -8...|\n",
      "|13210004|   JG422532|07/24/2023 09:45:...|073XX S JEFFERY BLVD|0281|CRIMINAL SEXUAL A...|      NON-AGGRAVATED|           APARTMENT| false|   false|0333|     003|   7|            43|      02|     1190812|     1856743|2023|09/16/2023 03:41:...|  41.7619185|-87.576209245|(41.7619185, -87....|\n",
      "|13210062|   JG423596|08/27/2023 07:00:...|034XX N LAWNDALE AVE|0820|               THEFT|      $500 AND UNDER|           APARTMENT| false|   false|1732|     017|  30|            21|      06|     1151117|     1922554|2023|09/16/2023 03:41:...|41.943378528|  -87.7199738|(41.943378528, -8...|\n",
      "|13210107|   JG411849|09/04/2023 09:30:...|   053XX S HOMAN AVE|1310|     CRIMINAL DAMAGE|         TO PROPERTY|  RESIDENCE - GARAGE| false|   false|0822|     008|  14|            63|      14|     1154617|     1869046|2023|09/16/2023 03:41:...|41.796477414|-87.708540915|(41.796477414, -8...|\n",
      "|13210060|   JG423567|08/15/2023 02:20:...|077XX S SPAULDING...|0810|               THEFT|           OVER $500|RESIDENCE - PORCH...| false|   false|0835|     008|  18|            70|      06|     1155724|     1853097|2023|09/16/2023 03:41:...|41.752688801|-87.704908791|(41.752688801, -8...|\n",
      "|13210120|   JG423499|07/24/2023 04:09:...|     002XX W 75TH ST|1120|  DECEPTIVE PRACTICE|             FORGERY|   CURRENCY EXCHANGE| false|   false|0731|     007|   6|            69|      10|     1175716|     1855233|2023|09/16/2023 03:41:...|41.758126171|-87.631582508|(41.758126171, -8...|\n",
      "|13210071|   JG421086|09/03/2023 10:27:...|   089XX S LOOMIS ST|0890|               THEFT|       FROM BUILDING|           APARTMENT| false|   false|2222|     022|  21|            73|      06|     1168564|     1845472|2023|09/16/2023 03:41:...|41.731497731|-87.658074565|(41.731497731, -8...|\n",
      "|13210035|   JG422370|08/17/2023 07:00:...|     019XX W 71ST ST|0820|               THEFT|      $500 AND UNDER|              STREET| false|   false|0735|     007|  17|            67|      06|     1164749|     1857588|2023|09/16/2023 03:41:...|41.764827083|-87.671709119|(41.764827083, -8...|\n",
      "|13210008|   JG422517|08/24/2023 02:27:...|  031XX S WALLACE ST|1110|  DECEPTIVE PRACTICE|         BOGUS CHECK|   CURRENCY EXCHANGE| false|   false|0915|     009|  11|            60|      11|     1172803|     1884190|2023|09/16/2023 03:41:...|41.837651929|-87.641404086|(41.837651929, -8...|\n",
      "|13210072|   JG422242|08/11/2023 11:00:...|  0000X S ALBANY AVE|1790|OFFENSE INVOLVING...|     CHILD ABDUCTION|           RESIDENCE| false|    true|1124|     011|  28|            27|      26|     1155914|     1899709|2023|09/16/2023 03:41:...|41.880594385|-87.702959421|(41.880594385, -8...|\n",
      "|13278080|   JG500620|11/11/2023 12:00:...|  038XX W MADISON ST|0910| MOTOR VEHICLE THEFT|          AUTOMOBILE|              STREET| false|   false|1122|     011|  28|            26|      07|     1150898|     1899740|2023|11/18/2023 03:40:...|41.880779076|-87.721377025|(41.880779076, -8...|\n",
      "|13272487|   JG498648|11/10/2023 05:30:...|  019XX N AUSTIN AVE|0810|               THEFT|           OVER $500|PARKING LOT / GAR...| false|   false|2513|     025|  29|            25|      06|     1136098|     1912178|2023|11/18/2023 03:40:...|41.915187259|-87.775425225|(41.915187259, -8...|\n",
      "|13279067|   JG506481|11/03/2023 12:00:...|    006XX W GRACE ST|1156|  DECEPTIVE PRACTICE|ATTEMPT - FINANCI...|           APARTMENT| false|   false|1925|     019|  46|             6|      11|     1171140|     1925861|2023|11/18/2023 03:39:...|41.952036311|-87.646281883|(41.952036311, -8...|\n",
      "+--------+-----------+--------------------+--------------------+----+--------------------+--------------------+--------------------+------+--------+----+--------+----+--------------+--------+------------+------------+----+--------------------+------------+-------------+--------------------+\n",
      "only showing top 20 rows\n",
      "\n"
     ]
    }
   ],
   "source": [
    "df_crime.show()"
   ]
  },
  {
   "cell_type": "code",
   "execution_count": 10,
   "id": "6389327d-6294-413d-9b61-306d3a77689a",
   "metadata": {},
   "outputs": [
    {
     "name": "stderr",
     "output_type": "stream",
     "text": [
      "[Stage 6:===================================>                      (8 + 5) / 13]"
     ]
    },
    {
     "name": "stdout",
     "output_type": "stream",
     "text": [
      "+--------------------------+\n",
      "|Primary Type              |\n",
      "+--------------------------+\n",
      "|OFFENSE INVOLVING CHILDREN|\n",
      "|CRIMINAL SEXUAL ASSAULT   |\n",
      "|STALKING                  |\n",
      "|PUBLIC PEACE VIOLATION    |\n",
      "|OBSCENITY                 |\n",
      "|ARSON                     |\n",
      "|DOMESTIC VIOLENCE         |\n",
      "|GAMBLING                  |\n",
      "|CRIMINAL TRESPASS         |\n",
      "|ASSAULT                   |\n",
      "|LIQUOR LAW VIOLATION      |\n",
      "|MOTOR VEHICLE THEFT       |\n",
      "|THEFT                     |\n",
      "|BATTERY                   |\n",
      "|ROBBERY                   |\n",
      "|HOMICIDE                  |\n",
      "|RITUALISM                 |\n",
      "|PUBLIC INDECENCY          |\n",
      "|CRIM SEXUAL ASSAULT       |\n",
      "|HUMAN TRAFFICKING         |\n",
      "+--------------------------+\n",
      "only showing top 20 rows\n",
      "\n"
     ]
    },
    {
     "name": "stderr",
     "output_type": "stream",
     "text": [
      "                                                                                "
     ]
    }
   ],
   "source": [
    "df_crime.select('Primary Type').distinct().show(truncate=False)"
   ]
  }
 ],
 "metadata": {
  "kernelspec": {
   "display_name": "Python 3 (ipykernel)",
   "language": "python",
   "name": "python3"
  },
  "language_info": {
   "codemirror_mode": {
    "name": "ipython",
    "version": 3
   },
   "file_extension": ".py",
   "mimetype": "text/x-python",
   "name": "python",
   "nbconvert_exporter": "python",
   "pygments_lexer": "ipython3",
   "version": "3.8.20"
  }
 },
 "nbformat": 4,
 "nbformat_minor": 5
}
